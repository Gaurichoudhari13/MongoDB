{
 "cells": [
  {
   "cell_type": "code",
   "execution_count": 1,
   "id": "ee57f9c6",
   "metadata": {},
   "outputs": [
    {
     "name": "stdout",
     "output_type": "stream",
     "text": [
      "Requirement already satisfied: pymongo in c:\\users\\lenovo\\anaconda3\\lib\\site-packages (4.6.1)\n",
      "Requirement already satisfied: dnspython<3.0.0,>=1.16.0 in c:\\users\\lenovo\\anaconda3\\lib\\site-packages (from pymongo) (2.4.2)\n",
      "Note: you may need to restart the kernel to use updated packages.\n"
     ]
    }
   ],
   "source": [
    "pip install pymongo"
   ]
  },
  {
   "cell_type": "code",
   "execution_count": 2,
   "id": "a08281c2",
   "metadata": {},
   "outputs": [],
   "source": [
    "import pymongo"
   ]
  },
  {
   "cell_type": "code",
   "execution_count": 4,
   "id": "6d7799f7",
   "metadata": {},
   "outputs": [],
   "source": [
    "client=pymongo.MongoClient('mongodb://localhost:27017/')"
   ]
  },
  {
   "cell_type": "code",
   "execution_count": 5,
   "id": "92f30f26",
   "metadata": {},
   "outputs": [],
   "source": [
    "db=client[\"Gauri\"]"
   ]
  },
  {
   "cell_type": "code",
   "execution_count": 6,
   "id": "8c8919d1",
   "metadata": {},
   "outputs": [],
   "source": [
    "collection=db[\"data\"]"
   ]
  },
  {
   "cell_type": "code",
   "execution_count": 7,
   "id": "d6325e77",
   "metadata": {},
   "outputs": [
    {
     "data": {
      "text/plain": [
       "Collection(Database(MongoClient(host=['localhost:27017'], document_class=dict, tz_aware=False, connect=True), 'Gauri'), 'data')"
      ]
     },
     "execution_count": 7,
     "metadata": {},
     "output_type": "execute_result"
    }
   ],
   "source": [
    "collection"
   ]
  },
  {
   "cell_type": "code",
   "execution_count": 8,
   "id": "fb9d4098",
   "metadata": {},
   "outputs": [],
   "source": [
    "student_data=db.data"
   ]
  },
  {
   "cell_type": "code",
   "execution_count": 9,
   "id": "c933d0ef",
   "metadata": {},
   "outputs": [],
   "source": [
    "student=student_data.insert_one({\"name\":\"chetana\",\"city\":\"pune\"}).inserted_id"
   ]
  },
  {
   "cell_type": "markdown",
   "id": "8b1724cc",
   "metadata": {},
   "source": [
    "### To Insert document In Collection"
   ]
  },
  {
   "cell_type": "code",
   "execution_count": 10,
   "id": "1a3d4b11",
   "metadata": {},
   "outputs": [],
   "source": [
    "student_data=db.student_data"
   ]
  },
  {
   "cell_type": "code",
   "execution_count": 11,
   "id": "c55a02db",
   "metadata": {},
   "outputs": [],
   "source": [
    "student=student_data.insert_one({\"name\":\"chetana\",\"city\":\"pune\"}).inserted_id"
   ]
  },
  {
   "cell_type": "code",
   "execution_count": 13,
   "id": "bcd4cbf1",
   "metadata": {},
   "outputs": [
    {
     "name": "stdout",
     "output_type": "stream",
     "text": [
      "659f85574fa11e2ebf15d611\n"
     ]
    }
   ],
   "source": [
    "print(student)"
   ]
  },
  {
   "cell_type": "markdown",
   "id": "f8dfd779",
   "metadata": {},
   "source": [
    "### Database2"
   ]
  },
  {
   "cell_type": "code",
   "execution_count": 14,
   "id": "0c917677",
   "metadata": {},
   "outputs": [],
   "source": [
    "mydb=client[\"Employess\"]\n",
    "empinfo=mydb.employeeinfo"
   ]
  },
  {
   "cell_type": "code",
   "execution_count": 15,
   "id": "41bd26cc",
   "metadata": {},
   "outputs": [
    {
     "data": {
      "text/plain": [
       "InsertOneResult(ObjectId('659f87964fa11e2ebf15d612'), acknowledged=True)"
      ]
     },
     "execution_count": 15,
     "metadata": {},
     "output_type": "execute_result"
    }
   ],
   "source": [
    "record={\n",
    "    \"firstname\":\"chetana\",\n",
    "    \"lastname\":\"vasave\",\n",
    "    \"dept\":\"data science\",\n",
    "    \"expereince\":\"3years\"\n",
    "}\n",
    "empinfo.insert_one(record)"
   ]
  },
  {
   "cell_type": "code",
   "execution_count": 16,
   "id": "fdd7c05f",
   "metadata": {},
   "outputs": [],
   "source": [
    "mydb=client[\"Employess\"]\n",
    "empinfo=mydb.emp1"
   ]
  },
  {
   "cell_type": "code",
   "execution_count": 17,
   "id": "f16edd88",
   "metadata": {},
   "outputs": [
    {
     "data": {
      "text/plain": [
       "InsertOneResult(ObjectId('659f899b4fa11e2ebf15d613'), acknowledged=True)"
      ]
     },
     "execution_count": 17,
     "metadata": {},
     "output_type": "execute_result"
    }
   ],
   "source": [
    "record={\n",
    "    \"firstname\":\"gauri\",\n",
    "    \"lastname\":\"choudhari\",\n",
    "    \"dept\":\"data science\",\n",
    "    \"expereince\":\"no\"\n",
    "}\n",
    "empinfo.insert_one(record)"
   ]
  },
  {
   "cell_type": "code",
   "execution_count": 18,
   "id": "179e7eff",
   "metadata": {},
   "outputs": [],
   "source": [
    "import json"
   ]
  },
  {
   "cell_type": "code",
   "execution_count": 19,
   "id": "25bdcfe6",
   "metadata": {},
   "outputs": [],
   "source": [
    "with open(r\"C:\\Users\\LENOVO\\Downloads\\data (1).json\") as file:\n",
    "    data1=json.load(file)"
   ]
  },
  {
   "cell_type": "code",
   "execution_count": 21,
   "id": "940ccc86",
   "metadata": {},
   "outputs": [],
   "source": [
    "my_db=client[\"Python\"]\n",
    "data=my_db.details"
   ]
  },
  {
   "cell_type": "code",
   "execution_count": 22,
   "id": "eddf563c",
   "metadata": {},
   "outputs": [
    {
     "data": {
      "text/plain": [
       "{'emp_details': [{'emp_name': 'Sayli',\n",
       "   'email': 'sayali123@gmail.com',\n",
       "   'job_prtofile': 'data scintist'},\n",
       "  {'emp_name': 'prachi',\n",
       "   'email': 'prachi123@gmail.com',\n",
       "   'job_prtofile': 'dataanalyst'},\n",
       "  {'emp_name': 'Gauri',\n",
       "   'email': 'Gauri123@gmail.com',\n",
       "   'job_prtofile': 'It Engineer'}]}"
      ]
     },
     "execution_count": 22,
     "metadata": {},
     "output_type": "execute_result"
    }
   ],
   "source": [
    "data1"
   ]
  },
  {
   "cell_type": "code",
   "execution_count": 23,
   "id": "c62ea4db",
   "metadata": {},
   "outputs": [
    {
     "data": {
      "text/plain": [
       "InsertOneResult(ObjectId('659f8d494fa11e2ebf15d614'), acknowledged=True)"
      ]
     },
     "execution_count": 23,
     "metadata": {},
     "output_type": "execute_result"
    }
   ],
   "source": [
    "data.insert_one(data1)"
   ]
  },
  {
   "cell_type": "code",
   "execution_count": null,
   "id": "25a85df2",
   "metadata": {},
   "outputs": [],
   "source": []
  }
 ],
 "metadata": {
  "kernelspec": {
   "display_name": "Python 3 (ipykernel)",
   "language": "python",
   "name": "python3"
  },
  "language_info": {
   "codemirror_mode": {
    "name": "ipython",
    "version": 3
   },
   "file_extension": ".py",
   "mimetype": "text/x-python",
   "name": "python",
   "nbconvert_exporter": "python",
   "pygments_lexer": "ipython3",
   "version": "3.11.5"
  }
 },
 "nbformat": 4,
 "nbformat_minor": 5
}
